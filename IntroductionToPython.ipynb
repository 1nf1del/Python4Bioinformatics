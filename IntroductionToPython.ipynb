{
 "cells": [
  {
   "cell_type": "markdown",
   "metadata": {},
   "source": [
    "## Introduction to Python\n",
    "\n",
    "- Setting up\n",
    "- What is it?\n",
    "    - what is a program?\n",
    "    - input and output\n",
    "    - Errors and error messages\n",
    "    - How to figure out what went wrong\n",
    "    - First program\n",
    "    - Comments\n",
    "    - Provide exercises build into the Ipython Notebook\n",
    "- Using Python for basic math\n",
    "    - hands on exercise\n",
    "- Variables expressions and statements\n",
    "    - values and datatypes\n",
    "    - Variables"
   ]
  },
  {
   "cell_type": "code",
   "execution_count": null,
   "metadata": {},
   "outputs": [],
   "source": [
    "name = input(\"Please enter your name: \")"
   ]
  },
  {
   "cell_type": "code",
   "execution_count": 3,
   "metadata": {},
   "outputs": [],
   "source": [
    "name = input(\"Please enter your name: \")"
   ]
  },
  {
   "cell_type": "code",
   "execution_count": 5,
   "metadata": {},
   "outputs": [
    {
     "name": "stdout",
     "output_type": "stream",
     "text": [
      "Caleb\n"
     ]
    }
   ],
   "source": [
    "print(name)"
   ]
  },
  {
   "cell_type": "code",
   "execution_count": 7,
   "metadata": {},
   "outputs": [
    {
     "name": "stdout",
     "output_type": "stream",
     "text": [
      "--2018-05-15 12:26:48--  https://gitlab.erc.monash.edu.au/andrease/Python4Maths/repository/archive.zip\n",
      "Resolving gitlab.erc.monash.edu.au... 118.138.241.11\n",
      "Connecting to gitlab.erc.monash.edu.au|118.138.241.11|:443... connected.\n",
      "HTTP request sent, awaiting response... 200 OK\n",
      "Length: 474490 (463K) [application/zip]\n",
      "Saving to: “archive.zip”\n",
      "\n",
      "100%[======================================>] 474,490      163K/s   in 2.8s    \n",
      "\n",
      "2018-05-15 12:26:52 (163 KB/s) - “archive.zip” saved [474490/474490]\n",
      "\n"
     ]
    }
   ],
   "source": [
    "!wget https://gitlab.erc.monash.edu.au/andrease/Python4Maths/repository/archive.zip"
   ]
  },
  {
   "cell_type": "code",
   "execution_count": 8,
   "metadata": {},
   "outputs": [
    {
     "name": "stdout",
     "output_type": "stream",
     "text": [
      "\u001b[0m\u001b[01;31marchive.zip\u001b[0m  archive.zip?ref=master  Untitled.ipynb\n",
      "\u001b[m"
     ]
    }
   ],
   "source": [
    "ls"
   ]
  },
  {
   "cell_type": "code",
   "execution_count": 9,
   "metadata": {},
   "outputs": [
    {
     "name": "stdout",
     "output_type": "stream",
     "text": [
      "Archive:  archive.zip\n",
      "feae49aa9562b1cbf265ba3aa85f47b114d6051b\n",
      "   creating: Python4Maths-master-feae49aa9562b1cbf265ba3aa85f47b114d6051b/\n",
      "   creating: Python4Maths-master-feae49aa9562b1cbf265ba3aa85f47b114d6051b/Intro-to-Python/\n",
      "  inflating: Python4Maths-master-feae49aa9562b1cbf265ba3aa85f47b114d6051b/Intro-to-Python/00.ipynb  \n",
      "  inflating: Python4Maths-master-feae49aa9562b1cbf265ba3aa85f47b114d6051b/Intro-to-Python/01.ipynb  \n",
      "  inflating: Python4Maths-master-feae49aa9562b1cbf265ba3aa85f47b114d6051b/Intro-to-Python/02.ipynb  \n",
      "  inflating: Python4Maths-master-feae49aa9562b1cbf265ba3aa85f47b114d6051b/Intro-to-Python/03.ipynb  \n",
      "  inflating: Python4Maths-master-feae49aa9562b1cbf265ba3aa85f47b114d6051b/Intro-to-Python/04.ipynb  \n",
      "  inflating: Python4Maths-master-feae49aa9562b1cbf265ba3aa85f47b114d6051b/Intro-to-Python/05.ipynb  \n",
      "  inflating: Python4Maths-master-feae49aa9562b1cbf265ba3aa85f47b114d6051b/Intro-to-Python/06.ipynb  \n",
      "  inflating: Python4Maths-master-feae49aa9562b1cbf265ba3aa85f47b114d6051b/Intro-to-Python/07.ipynb  \n",
      "  inflating: Python4Maths-master-feae49aa9562b1cbf265ba3aa85f47b114d6051b/Intro-to-Python/08.ipynb  \n",
      "  inflating: Python4Maths-master-feae49aa9562b1cbf265ba3aa85f47b114d6051b/Intro-to-Python/09.ipynb  \n",
      "  inflating: Python4Maths-master-feae49aa9562b1cbf265ba3aa85f47b114d6051b/Intro-to-Python/10.ipynb  \n",
      "  inflating: Python4Maths-master-feae49aa9562b1cbf265ba3aa85f47b114d6051b/Intro-to-Python/11.ipynb  \n",
      "  inflating: Python4Maths-master-feae49aa9562b1cbf265ba3aa85f47b114d6051b/Python.pdf  \n",
      "  inflating: Python4Maths-master-feae49aa9562b1cbf265ba3aa85f47b114d6051b/README.md  \n",
      "   creating: Python4Maths-master-feae49aa9562b1cbf265ba3aa85f47b114d6051b/mymip/\n",
      "  inflating: Python4Maths-master-feae49aa9562b1cbf265ba3aa85f47b114d6051b/mymip/README.md  \n",
      "  inflating: Python4Maths-master-feae49aa9562b1cbf265ba3aa85f47b114d6051b/mymip/UnitTest.py  \n",
      "  inflating: Python4Maths-master-feae49aa9562b1cbf265ba3aa85f47b114d6051b/mymip/__init__.py  \n",
      "  inflating: Python4Maths-master-feae49aa9562b1cbf265ba3aa85f47b114d6051b/mymip/cpxconst.py  \n",
      "  inflating: Python4Maths-master-feae49aa9562b1cbf265ba3aa85f47b114d6051b/mymip/makecpxconst.py  \n",
      "  inflating: Python4Maths-master-feae49aa9562b1cbf265ba3aa85f47b114d6051b/mymip/mycplex.py  \n"
     ]
    }
   ],
   "source": [
    "!unzip archive.zip"
   ]
  },
  {
   "cell_type": "code",
   "execution_count": null,
   "metadata": {},
   "outputs": [],
   "source": []
  }
 ],
 "metadata": {
  "kernelspec": {
   "display_name": "Python 3",
   "language": "python",
   "name": "python3"
  },
  "language_info": {
   "codemirror_mode": {
    "name": "ipython",
    "version": 3
   },
   "file_extension": ".py",
   "mimetype": "text/x-python",
   "name": "python",
   "nbconvert_exporter": "python",
   "pygments_lexer": "ipython3",
   "version": "3.6.5"
  }
 },
 "nbformat": 4,
 "nbformat_minor": 2
}
