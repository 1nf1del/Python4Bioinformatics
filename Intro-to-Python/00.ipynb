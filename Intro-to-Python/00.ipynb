{
 "cells": [
  {
   "cell_type": "markdown",
   "metadata": {},
   "source": [
    "<small><small><i>\n",
    "Introduction to Python for Bioinformatics - available at https://github.com/kipkurui/Python4Bioinformatics.\n",
    "\n",
    "This is an adaptation of the Introduction to Python for Maths by [Andreas Ernst](http://users.monash.edu.au/~andreas) , available from  https://gitlab.erc.monash.edu.au/andrease/Python4Maths.git. The original version was written by Rajath Kumar and is available at https://github.com/rajathkumarmp/Python-Lectures.\n",
    "\n",
    "These notes have been amended and updated for the EANBiT Introduction to Python for Bioinfomatics by Caleb Kibet and Audrey.  \n",
    "</small></small></i>"
   ]
  },
  {
   "cell_type": "markdown",
   "metadata": {},
   "source": [
    "# Python-Lectures"
   ]
  },
  {
   "cell_type": "markdown",
   "metadata": {},
   "source": [
    "## Introduction\n",
    "\n",
    "Python is a modern, robust, high level programming language. It is very easy to pick up even if you are completely new to programming. \n",
    "\n",
    "Python, similar to other languages like matlab or R, is interpreted hence runs slowly compared to C++, Fortran or Java. However writing programs in Python is very quick. Python has a very large collection of libraries for everything from scientific computing to web services. It caters for object oriented and functional programming with module system that allows large and complex applications to be developed in Python. \n",
    "\n",
    "These lectures are using Jupyter Notebooks which mix Python code with documentation. The python notebooks can be run on a webserver or stand-alone on a computer."
   ]
  },
  {
   "cell_type": "markdown",
   "metadata": {},
   "source": [
    "## Contents\n",
    "\n",
    "This course is broken up into a number of notebooks (chapters).\n",
    "\n",
    "* [00](00.ipynb) This introduction with additional information below on how to get started in running python\n",
    "* [01](01.ipynb) Basic data types and operations (numbers, strings) \n",
    "* [02](02.ipynb) String manipulation \n",
    "* [03](03.ipynb) Data structures: Lists and Tuples\n",
    "* [04](04.ipynb) Data structures (continued): dictionaries\n",
    "* [05](05.ipynb) Control statements: if, for, while, try statements\n",
    "* [06](06.ipynb) Functions\n",
    "* [07](07.ipynb) Classes and basic object oriented programming\n",
    "#### At most, we will get here in this course...\n",
    "* [08](08.ipynb) Scipy: libraries for arrays (matrices) and plotting\n",
    "* [09](09.ipynb) Mixed Integer Linear Programming using the mymip library.\n",
    "* [10](10.ipynb) Networks and graphs under python - a very brief introduction\n",
    "* [11](11.ipynb) Using the numba library for fast numerical computing.\n",
    "\n",
    "This is a tutorial style introduction to Python. For a quick reminder / summary of Python syntax the following [Quick Reference Card](http://www.cs.put.poznan.pl/csobaniec/software/python/py-qrc.html) may be useful. A longer and more detailed tutorial style introduction to python is available from the python site at: https://docs.python.org/3/tutorial/"
   ]
  },
  {
   "cell_type": "markdown",
   "metadata": {},
   "source": [
    "## Installation\n",
    "\n",
    "### Loging into the web server\n",
    "The easiest way to run this and other notebooks for participants of EANBiT is to log into the Jupyter Server at [ICIPE](to be added). The steps for running notebooks are:\n",
    "* Log in using the username and passowrd provided\n",
    "* Press the start button (if prompted by the system)\n",
    "* Use the menu of the jupyter system to upload a .ipynb python notebook file or to start a new notebook.\n",
    "\n",
    "### Installing \n",
    "\n",
    "Python runs on windows, linux, mac and other environments. There are many python distributions available. However the recommended way to install python under Microsoft Windows or Linux is to use the Anaconda distribution available at [https://www.continuum.io/downloads]. Make sure to get the Python *3.6* version, not 2.7. This distribution comes with the [SciPy](https://www.scipy.org/) collection of scientific python tools as well as the iron python notebook.\n",
    "\n",
    "To open a jupyter lab session with anaconda installed, from the terminal run:\n",
    "\n",
    "    jupyter lab\n",
    "    \n",
    "If you only need the notebook, use:\n",
    "\n",
    "    jupyter notebook\n",
    "\n",
    "We will use ```jupyter lab``` in this course, which you acess after log in. "
   ]
  },
  {
   "cell_type": "markdown",
   "metadata": {},
   "source": [
    "## How to learn from this resource?\n",
    "\n",
    "Download all the  notebooks from [https://github.com/kipkurui/Python4Bioinformatics]. For the EANBiT course, we have initialized you Jupyter lab session with all the required resources. (Confirm this has been set up before the course)\n",
    "\n",
    "Alternatively, you can simply clone the GitHub repository to your jupyter lab session using the following command:\n",
    "\n",
    "    clone https://github.com/kipkurui/Python4Bioinformatics.git\n",
    "    \n",
    "Cell > All Output > Clear\n",
    "\n",
    "This will clear all the outputs and now you can understand each statement and learn interactively.\n",
    "\n"
   ]
  },
  {
   "cell_type": "markdown",
   "metadata": {},
   "source": [
    "## How to Contribute\n",
    "\n",
    "To contribute, fork the repository, make some updates and send me a pull request. \n",
    "\n",
    "Alternatively, you can open an issue. \n"
   ]
  },
  {
   "cell_type": "markdown",
   "metadata": {},
   "source": [
    "## License\n",
    "This work is licensed under the Creative Commons Attribution 3.0 Unported License. To view a copy of this license, visit http://creativecommons.org/licenses/by/3.0/"
   ]
  }
 ],
 "metadata": {
  "kernelspec": {
   "display_name": "Python 3",
   "language": "python",
   "name": "python3"
  },
  "language_info": {
   "codemirror_mode": {
    "name": "ipython",
    "version": 3
   },
   "file_extension": ".py",
   "mimetype": "text/x-python",
   "name": "python",
   "nbconvert_exporter": "python",
   "pygments_lexer": "ipython3",
   "version": "3.6.5"
  }
 },
 "nbformat": 4,
 "nbformat_minor": 2
}
